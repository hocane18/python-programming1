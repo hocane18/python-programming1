{
 "cells": [
  {
   "cell_type": "markdown",
   "metadata": {},
   "source": [
    "# Assigment 3\n"
   ]
  },
  {
   "cell_type": "code",
   "execution_count": 1,
   "metadata": {},
   "outputs": [
    {
     "name": "stdout",
     "output_type": "stream",
     "text": [
      "6\n",
      "3\n",
      "8\n",
      "2\n",
      "16\n"
     ]
    }
   ],
   "source": [
    "#1. Make a calculator using Python with addition , subtraction , multiplication ,\n",
    "#division and power.\n",
    "class Calculator():\n",
    "    def addition(a,b):\n",
    "        print(a+b) \n",
    "    def subtraction(a,b):\n",
    "        print(a-b)\n",
    "    def multiplication(a,b):\n",
    "        print(a*b)\n",
    "    def division(a,b):\n",
    "        print(a//b)\n",
    "    def power(a,b):\n",
    "        print(a**b)\n",
    "c=Calculator\n",
    "c.addition(4,2)\n",
    "c.subtraction(4,1)\n",
    "c.multiplication(4,2)\n",
    "c.division(4,2)\n",
    "c.power(4,2)"
   ]
  },
  {
   "cell_type": "code",
   "execution_count": 2,
   "metadata": {},
   "outputs": [
    {
     "name": "stdout",
     "output_type": "stream",
     "text": [
      "1 is a number in list \n"
     ]
    }
   ],
   "source": [
    "#2. Write a program to check if there is any numeric value in list using for loop\n",
    "def check(list):\n",
    "    for x in range(len(list)):\n",
    "        \n",
    "        if type(list[x]) == int:\n",
    "            \n",
    "            print( f\"{list[x]} is a number in list \")\n",
    "        \n",
    "list=[\"A\",\"B\",1,\" \"]   \n",
    "check(list)"
   ]
  },
  {
   "cell_type": "code",
   "execution_count": 19,
   "metadata": {},
   "outputs": [
    {
     "name": "stdout",
     "output_type": "stream",
     "text": [
      "6 sum of list \n"
     ]
    }
   ],
   "source": [
    "#4. Write a Python program to sum all the numeric items in a dictionary\n",
    "def check(list):\n",
    "    count=0\n",
    "    for x in range(len(list)):\n",
    "        \n",
    "        if type(list[x]) == int:\n",
    "            count+=list[x]\n",
    "            \n",
    "    print(f\"{count} sum of list \")\n",
    "list=[\"A\",\"B\",1,\" \",2,3]   \n",
    "check(list)\n"
   ]
  },
  {
   "cell_type": "code",
   "execution_count": 3,
   "metadata": {},
   "outputs": [
    {
     "data": {
      "text/plain": [
       "{'name': 'amir', 'fname': 'zeshan', 'address': 'gulshan'}"
      ]
     },
     "execution_count": 3,
     "metadata": {},
     "output_type": "execute_result"
    }
   ],
   "source": [
    "#3. Write a Python script to add a key to a dictionary\n",
    "dic={\"name\":\"amir\",\"fname\":\"zeshan\"}\n",
    "dic[\"address\"]=\"gulshan\"\n",
    "dic"
   ]
  },
  {
   "cell_type": "code",
   "execution_count": 56,
   "metadata": {},
   "outputs": [
    {
     "name": "stdout",
     "output_type": "stream",
     "text": [
      "3 is duplicate\n",
      "3 is duplicate\n"
     ]
    }
   ],
   "source": [
    "#5. Write a program to identify duplicate values from list\n",
    "list=[1,2,3,3,3]\n",
    "for x in range(len(list)):\n",
    "    if x!=len(list)-1:\n",
    "        if(list[x]==list[x+1]):\n",
    "            print(f\"{list[x]} is duplicate\")"
   ]
  },
  {
   "cell_type": "code",
   "execution_count": 57,
   "metadata": {},
   "outputs": [
    {
     "name": "stdout",
     "output_type": "stream",
     "text": [
      "Key is present in the dictionary\n",
      "Key is not present in the dictionary\n"
     ]
    }
   ],
   "source": [
    "#6. Write a Python script to check if a given key already exists in a dictionary \n",
    "d = {1: 10, 2: 20, 3: 30, 4: 40, 5: 50, 6: 60}\n",
    "def is_key_present(x):\n",
    "  if x in d:\n",
    "      print('Key is present in the dictionary')\n",
    "  else:\n",
    "      print('Key is not present in the dictionary')\n",
    "is_key_present(5)\n",
    "is_key_present(9)  "
   ]
  },
  {
   "cell_type": "code",
   "execution_count": null,
   "metadata": {},
   "outputs": [],
   "source": []
  },
  {
   "cell_type": "code",
   "execution_count": null,
   "metadata": {},
   "outputs": [],
   "source": []
  },
  {
   "cell_type": "code",
   "execution_count": null,
   "metadata": {},
   "outputs": [],
   "source": []
  }
 ],
 "metadata": {
  "kernelspec": {
   "display_name": "Python 3",
   "language": "python",
   "name": "python3"
  },
  "language_info": {
   "codemirror_mode": {
    "name": "ipython",
    "version": 3
   },
   "file_extension": ".py",
   "mimetype": "text/x-python",
   "name": "python",
   "nbconvert_exporter": "python",
   "pygments_lexer": "ipython3",
   "version": "3.7.3"
  }
 },
 "nbformat": 4,
 "nbformat_minor": 2
}
