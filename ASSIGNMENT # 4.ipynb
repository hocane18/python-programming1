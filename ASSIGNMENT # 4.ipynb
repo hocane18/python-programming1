{
 "cells": [
  {
   "cell_type": "markdown",
   "metadata": {},
   "source": [
    "# QUESTION 1"
   ]
  },
  {
   "cell_type": "code",
   "execution_count": 20,
   "metadata": {},
   "outputs": [
    {
     "name": "stdout",
     "output_type": "stream",
     "text": [
      "firstname: usama\n",
      "lastname: chohan\n",
      "age: 19\n",
      "city: Karachi\n"
     ]
    },
    {
     "data": {
      "text/plain": [
       "('qualification', 'bachelors')"
      ]
     },
     "execution_count": 20,
     "metadata": {},
     "output_type": "execute_result"
    }
   ],
   "source": [
    "user_dict={\"first_name\":\"usama\",\"last_name\":\"chohan\",\"age\":19,\"city\":\"Karachi\"}\n",
    "print(\"firstname:\",user_dict['first_name'])\n",
    "print(\"lastname:\",user_dict['last_name'])\n",
    "print(\"age:\",user_dict['age'])\n",
    "print(\"city:\",user_dict['city'])\n",
    "user_dict['qualification']='bachelors'\n",
    "user_dict.popitem()"
   ]
  },
  {
   "cell_type": "markdown",
   "metadata": {},
   "source": [
    "# QUESTION 2"
   ]
  },
  {
   "cell_type": "code",
   "execution_count": 21,
   "metadata": {},
   "outputs": [],
   "source": [
    "cities_info={\"PAKISTAN\":{\"CITY_NAME\":\"KARACHI\",\"POPULATION\":\"18 CRORE\",\"FACT\":\"MQM\"},'SUADIA _ARAB':{\"CITY_NAME\":\"MAKKAH\",\"POPULATION\":\"10CRORE\",\"FACT\":\"HOLLY PLACE\"},'UAE':{\"CITY_NAME\":\"DUBAI\",\"POPULATION\":\"13CRORE\",\"FACT\":\"ADVENTURES\"}}"
   ]
  },
  {
   "cell_type": "code",
   "execution_count": 22,
   "metadata": {},
   "outputs": [
    {
     "name": "stdout",
     "output_type": "stream",
     "text": [
      "INFO:{'CITY_NAME': 'KARACHI', 'POPULATION': '18 CRORE', 'FACT': 'MQM'}\n",
      "INFO:{'CITY_NAME': 'MAKKAH', 'POPULATION': '10CRORE', 'FACT': 'HOLLY PLACE'}\n",
      "INFO:{'CITY_NAME': 'DUBAI', 'POPULATION': '13CRORE', 'FACT': 'ADVENTURES'}\n"
     ]
    }
   ],
   "source": [
    "print(\"INFO:{}\".format(cities_info[\"PAKISTAN\"]))\n",
    "print(\"INFO:{}\".format(cities_info[\"SUADIA _ARAB\"]))\n",
    "print(\"INFO:{}\".format(cities_info[\"UAE\"]))"
   ]
  },
  {
   "cell_type": "markdown",
   "metadata": {},
   "source": [
    "# QUESTION 3"
   ]
  },
  {
   "cell_type": "code",
   "execution_count": null,
   "metadata": {},
   "outputs": [],
   "source": [
    "while True :\n",
    "    age=int(input(\"ENTER YOUR AGE! \"))\n",
    "    if age<=3:\n",
    "        print(\"your ticket is free of cost\")\n",
    "        break\n",
    "    elif age>3 and age<=12:\n",
    "        print(\"your ticket price is 10$ per\")\n",
    "        break\n",
    "    elif age>12 and age<=15:\n",
    "        print(\"your ticket price is 15$ per\")\n",
    "        break\n",
    "    else:\n",
    "        print(\"your enter wrong age formate\")\n",
    "        \n",
    "        "
   ]
  },
  {
   "cell_type": "markdown",
   "metadata": {},
   "source": [
    "# QUESTION 4"
   ]
  },
  {
   "cell_type": "code",
   "execution_count": 25,
   "metadata": {},
   "outputs": [
    {
     "name": "stdout",
     "output_type": "stream",
     "text": [
      "my favorite books is Alice is wonderland \n"
     ]
    }
   ],
   "source": [
    "def favorite_book(title):\n",
    "    output=print(\"my favorite books is {:20}\".format(title))\n",
    "    return output\n",
    "favorite_book(\"Alice is wonderland \")    "
   ]
  },
  {
   "cell_type": "markdown",
   "metadata": {},
   "source": [
    "# QUESTION 5"
   ]
  },
  {
   "cell_type": "code",
   "execution_count": null,
   "metadata": {},
   "outputs": [
    {
     "name": "stdout",
     "output_type": "stream",
     "text": [
      "enter your guess number range(1 to 30) :3\n",
      "your guess is accurate\n",
      "your guess is accurate\n",
      "your guess is accurate\n",
      "your guess is accurate\n",
      "your guess is accurate\n",
      "your guess is accurate\n",
      "your guess is accurate\n",
      "your guess is accurate\n"
     ]
    }
   ],
   "source": [
    "import random \n",
    "chance=0\n",
    "while chance <3:\n",
    "    user_input=int(input(\"enter your guess number range(1 to 30) :\"))\n",
    "    rand=random.randrange(1,30)\n",
    "    while user_input in rand:\n",
    "        \n",
    "    chance+=1"
   ]
  },
  {
   "cell_type": "code",
   "execution_count": 52,
   "metadata": {},
   "outputs": [
    {
     "name": "stdout",
     "output_type": "stream",
     "text": [
      "0\n",
      "1\n",
      "2\n",
      "3\n",
      "4\n",
      "5\n",
      "6\n",
      "7\n",
      "8\n",
      "9\n",
      "10\n",
      "11\n",
      "12\n",
      "13\n",
      "14\n",
      "15\n",
      "16\n",
      "17\n",
      "18\n",
      "19\n",
      "20\n",
      "21\n",
      "22\n",
      "23\n",
      "24\n"
     ]
    }
   ],
   "source": []
  },
  {
   "cell_type": "code",
   "execution_count": null,
   "metadata": {},
   "outputs": [],
   "source": []
  },
  {
   "cell_type": "code",
   "execution_count": null,
   "metadata": {},
   "outputs": [],
   "source": []
  }
 ],
 "metadata": {
  "kernelspec": {
   "display_name": "Python 3",
   "language": "python",
   "name": "python3"
  },
  "language_info": {
   "codemirror_mode": {
    "name": "ipython",
    "version": 3
   },
   "file_extension": ".py",
   "mimetype": "text/x-python",
   "name": "python",
   "nbconvert_exporter": "python",
   "pygments_lexer": "ipython3",
   "version": "3.7.3"
  }
 },
 "nbformat": 4,
 "nbformat_minor": 2
}
